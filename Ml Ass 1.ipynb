{
 "cells": [
  {
   "cell_type": "code",
   "execution_count": null,
   "metadata": {},
   "outputs": [],
   "source": [
    "1. What does one mean by the term \"machine learning\"?\n"
   ]
  },
  {
   "cell_type": "code",
   "execution_count": null,
   "metadata": {},
   "outputs": [],
   "source": [
    ">>>>Machine learning ( ML) is the study of computer algorithms that improve automatically \n",
    "through experience and by the use of data. \n",
    "It is seen as a part of artificial intelligence."
   ]
  },
  {
   "cell_type": "code",
   "execution_count": null,
   "metadata": {},
   "outputs": [],
   "source": [
    "2.Can you think of 4 distinct types of issues where it shines?"
   ]
  },
  {
   "cell_type": "code",
   "execution_count": null,
   "metadata": {},
   "outputs": [],
   "source": [
    ">>>>\n",
    "1. Identifying Spam\n",
    "2.Making Product Recommendations\n",
    "3.Customer Segmentation\n",
    "4. Image & Video Recognition\n",
    "5. Fraudulent Transactions\n",
    "6. Demand Forecasting\n",
    "7. Virtual Personal Assistant \n",
    "8. Sentiment Analysis\n",
    "9. Customer Service Automation"
   ]
  },
  {
   "cell_type": "code",
   "execution_count": null,
   "metadata": {},
   "outputs": [],
   "source": [
    "3.What is a labeled training set, and how does it work?"
   ]
  },
  {
   "cell_type": "code",
   "execution_count": null,
   "metadata": {},
   "outputs": [],
   "source": [
    ">>>>\n",
    "It’s no secret that machine learning success is derived from the availability of labeled data in\n",
    "the form of a training set and test set that are used by the learning algorithm. The separation of \n",
    "the data into a training portion and a test portion is the way the algorithm learns. You split up the \n",
    "data containing known response variable values into two pieces. The training set is used to train the \n",
    "algorithm, and then you use the trained model on the test set to predict the response variable values\n",
    "that are already known. The final step is to compare the predicted responses against the actual \n",
    "(observed) responses to see how close they are. The difference is the test error metric.\n",
    "Depending on the test error, you can go back to refine the model and repeat the process until you’re \n",
    "satisfied with the accuracy.\n",
    "\n",
    "Labels are the values of the response variables (what’s being predicted) that are used by the \n",
    "algorithm along with the feature variables (predictors). One consistent problem faced by data \n",
    "scientists is how to obtain labels for a given data set for use with machine learning.\n"
   ]
  },
  {
   "cell_type": "code",
   "execution_count": null,
   "metadata": {},
   "outputs": [],
   "source": [
    "\n",
    "4.What are the two most important tasks that are supervised?\n"
   ]
  },
  {
   "cell_type": "code",
   "execution_count": null,
   "metadata": {},
   "outputs": [],
   "source": [
    ">>>The two most common supervised tasks are regression and classification."
   ]
  },
  {
   "cell_type": "code",
   "execution_count": null,
   "metadata": {},
   "outputs": [],
   "source": [
    "5.Can you think of four examples of unsupervised tasks?"
   ]
  },
  {
   "cell_type": "code",
   "execution_count": null,
   "metadata": {},
   "outputs": [],
   "source": [
    ">>>\n",
    "1.Customer segmentation, or understanding different customer groups around which to build marketing \n",
    "or other business strategies.\n",
    "2.Genetics, for example clustering DNA patterns to analyze evolutionary biology.\n",
    "3.Recommender systems, which involve grouping together users with similar viewing patterns in order\n",
    "to recommend similar content.\n",
    "4.Anomaly detection, including fraud detection or detecting defective mechanical parts \n",
    "(i.e., predictive maintenance)."
   ]
  },
  {
   "cell_type": "code",
   "execution_count": null,
   "metadata": {},
   "outputs": [],
   "source": [
    "6.State the machine learning model that would be best to make a robot walk through various unfamiliar\n",
    "terrains?\n"
   ]
  },
  {
   "cell_type": "code",
   "execution_count": null,
   "metadata": {},
   "outputs": [],
   "source": [
    ">>>\n",
    "Reinforcement learning learning would certainly be a viable approach. There have been some papers \n",
    "coming out of the Stanford research group by distinguished researchers such as Andrew Ng on this very \n",
    "topic. Using reinforcement learning, the robot would gradually learn how to walk through different\n",
    "terrains in much the same way as animals learn, by getting rewards and punishments.\n",
    "\n",
    "Interestingly, Boston Dynamics, which is arguably the world leader in robotics in challenging terrain,\n",
    "does not use machine learning at all as far as I know. They base their robots on the physics of \n",
    "locomotion and have achieved some very impressive results. They build their locomotion models by \n",
    "observing how animals and insects move in nature."
   ]
  },
  {
   "cell_type": "code",
   "execution_count": null,
   "metadata": {},
   "outputs": [],
   "source": [
    "7.Which algorithm will you use to divide your customers into different groups?"
   ]
  },
  {
   "cell_type": "code",
   "execution_count": 1,
   "metadata": {},
   "outputs": [],
   "source": [
    ">>>\n",
    "Clustering. More specifically, k-Means Clustering.\n",
    "\n",
    "It’s a simple, but highly useful, algorithm. All you need to do is specify a number of clusters, or \n",
    "groups, k. The algorithm then groups all your customers into k clusters so that the members of each \n",
    "cluster are as close to the other members of the same cluster as possible."
   ]
  },
  {
   "cell_type": "code",
   "execution_count": null,
   "metadata": {},
   "outputs": [],
   "source": [
    "\n",
    "8.Will you consider the problem of spam detection to be a supervised or unsupervised learning problem?\n"
   ]
  },
  {
   "cell_type": "code",
   "execution_count": null,
   "metadata": {},
   "outputs": [],
   "source": [
    ">>>\n",
    "Spam detection is a supervised machine learning problem. This means you must provide your machine \n",
    "learning model with a set of examples of spam and ham messages and let it find the relevant patterns \n",
    "that separate the two different categories. Most email providers have their own vast data sets of \n",
    "labeled emails.\n"
   ]
  },
  {
   "cell_type": "code",
   "execution_count": null,
   "metadata": {},
   "outputs": [],
   "source": [
    "9.What is the concept of an online learning system?"
   ]
  },
  {
   "cell_type": "code",
   "execution_count": null,
   "metadata": {},
   "outputs": [],
   "source": [
    ">>>\n",
    "Online learning system is a learning system in which the machine learns as data is given in small \n",
    "streams continuously."
   ]
  },
  {
   "cell_type": "code",
   "execution_count": null,
   "metadata": {},
   "outputs": [],
   "source": [
    "10.What is out-of-core learning, and how does it differ from core learning?"
   ]
  },
  {
   "cell_type": "code",
   "execution_count": null,
   "metadata": {},
   "outputs": [],
   "source": [
    ">>>>Out-of-core learning refers to a set of algorithms working with data that cannot fit into the \n",
    "memory of a single computer, but that can easily fit into some data storage such as a local hard disk \n",
    "or web repository.\n",
    "At the core, learning is a process that results in a change in knowledge or behavior as a result\n",
    "of experience. Understanding what it takes to get that knowledge in and out (or promote behavioral \n",
    "change of a specific kind) can help optimize learning.\n"
   ]
  },
  {
   "cell_type": "code",
   "execution_count": null,
   "metadata": {},
   "outputs": [],
   "source": [
    "\n",
    "11.What kind of learning algorithm makes predictions using a similarity measure?\n"
   ]
  },
  {
   "cell_type": "code",
   "execution_count": null,
   "metadata": {},
   "outputs": [],
   "source": [
    ">>>\n",
    "Learning algorithm that relies on a similarity measure to make predictions is instance-based algorithm.\n"
   ]
  },
  {
   "cell_type": "code",
   "execution_count": null,
   "metadata": {},
   "outputs": [],
   "source": [
    "12.What's the difference between a model parameter and a hyperparameter in a learning algorithm?"
   ]
  },
  {
   "cell_type": "code",
   "execution_count": null,
   "metadata": {},
   "outputs": [],
   "source": [
    "Model parameter determines how a model will predict given a new instance; model usually has more than\n",
    "one parameter (i.e. slope of a linear model). Hyperparameter is a parameter for the learning algorithm,\n",
    "not of a model."
   ]
  },
  {
   "cell_type": "code",
   "execution_count": null,
   "metadata": {},
   "outputs": [],
   "source": [
    "13.What are the criteria that model-based learning algorithms look for? What is the most popular \n",
    "method they use to achieve success? What method do they use to make predictions?\n"
   ]
  },
  {
   "cell_type": "code",
   "execution_count": null,
   "metadata": {},
   "outputs": [],
   "source": [
    ">>>\n",
    "Model based learning algorithm search for the optimal value of parameters in a model that will give\n",
    "the best results for the new instances. We often use a cost function or similar to determine what the \n",
    "parameter value has to be in order to minimize the function. The model makes prediction by using the\n",
    "value of the new instance and the parameters in its function."
   ]
  },
  {
   "cell_type": "code",
   "execution_count": null,
   "metadata": {},
   "outputs": [],
   "source": [
    "14.Can you name four of the most important Machine Learning challenges?\n"
   ]
  },
  {
   "cell_type": "code",
   "execution_count": null,
   "metadata": {},
   "outputs": [],
   "source": [
    "Four main challenges in Machine Learning include overfitting the data (using a model too complicated),\n",
    "underfitting the data (using a simple model), lacking in data and nonrepresentative data."
   ]
  },
  {
   "cell_type": "code",
   "execution_count": null,
   "metadata": {},
   "outputs": [],
   "source": [
    "15.What happens if the model performs well on the training data but fails to generalize the results \n",
    "to new situations? Can you think of three different options?\n"
   ]
  },
  {
   "cell_type": "code",
   "execution_count": null,
   "metadata": {},
   "outputs": [],
   "source": [
    ">>>>\n",
    "If the model performs poorly to new instances, then it has overfit on the training data. To solve this,\n",
    "we can do any of the following three: get more data, implement a simpler model, or eliminate outliers \n",
    "or noise from the existing data set."
   ]
  },
  {
   "cell_type": "code",
   "execution_count": null,
   "metadata": {},
   "outputs": [],
   "source": [
    "16.What exactly is a test set, and why would you need one?\n"
   ]
  },
  {
   "cell_type": "code",
   "execution_count": null,
   "metadata": {},
   "outputs": [],
   "source": [
    ">>>Test set is a set that you test your model (fit using training data) to see how it performs. \n",
    "Test set is necessary so that you can determine how good (or bad) your model performs."
   ]
  },
  {
   "cell_type": "code",
   "execution_count": null,
   "metadata": {},
   "outputs": [],
   "source": [
    "17.What is a validation set's purpose?"
   ]
  },
  {
   "cell_type": "code",
   "execution_count": null,
   "metadata": {},
   "outputs": [],
   "source": [
    ">>>\n",
    "Validation set is a set used to compare between different training models."
   ]
  },
  {
   "cell_type": "code",
   "execution_count": null,
   "metadata": {},
   "outputs": [],
   "source": [
    "18.What is cross-validation and why would you prefer it to a validation set?"
   ]
  },
  {
   "cell_type": "code",
   "execution_count": null,
   "metadata": {},
   "outputs": [],
   "source": [
    "If you tune hyperparameters using the test sets, then it may not perform well on the out-of-sample\n",
    "data because the model is tuned just for that specific set."
   ]
  },
  {
   "cell_type": "code",
   "execution_count": null,
   "metadata": {},
   "outputs": [],
   "source": [
    "\n",
    "19.What could go wrong if you use the test set to tune hyperparameters?\n"
   ]
  },
  {
   "cell_type": "code",
   "execution_count": null,
   "metadata": {},
   "outputs": [],
   "source": [
    ">>>\n",
    "If you tune hyperparameters using the test sets, then it may not perform well on the out-of-sample \n",
    "data because the model is tuned just for that specific set."
   ]
  }
 ],
 "metadata": {
  "kernelspec": {
   "display_name": "Python 3",
   "language": "python",
   "name": "python3"
  },
  "language_info": {
   "codemirror_mode": {
    "name": "ipython",
    "version": 3
   },
   "file_extension": ".py",
   "mimetype": "text/x-python",
   "name": "python",
   "nbconvert_exporter": "python",
   "pygments_lexer": "ipython3",
   "version": "3.8.5"
  }
 },
 "nbformat": 4,
 "nbformat_minor": 4
}
